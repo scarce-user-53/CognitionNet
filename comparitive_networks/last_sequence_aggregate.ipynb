{
 "cells": [
  {
   "cell_type": "code",
   "execution_count": 1,
   "id": "a771e555",
   "metadata": {},
   "outputs": [
    {
     "name": "stdout",
     "output_type": "stream",
     "text": [
      "Requirement already satisfied: xgboost in /home/ec2-user/anaconda3/envs/python3/lib/python3.6/site-packages (1.5.2)\n",
      "Requirement already satisfied: numpy in /home/ec2-user/anaconda3/envs/python3/lib/python3.6/site-packages (from xgboost) (1.19.5)\n",
      "Requirement already satisfied: scipy in /home/ec2-user/anaconda3/envs/python3/lib/python3.6/site-packages (from xgboost) (1.5.3)\n"
     ]
    }
   ],
   "source": [
    "!pip install xgboost"
   ]
  },
  {
   "cell_type": "code",
   "execution_count": 2,
   "id": "ad2f3cb0",
   "metadata": {},
   "outputs": [],
   "source": [
    "import numpy as np\n",
    "import pandas as pd\n",
    "import seaborn as sns\n",
    "import matplotlib.pyplot as plt"
   ]
  },
  {
   "cell_type": "code",
   "execution_count": 3,
   "id": "dfa449fc",
   "metadata": {},
   "outputs": [],
   "source": [
    "user_classes = [\"sustainers\", \"burnouts\", \"churnouts\"]"
   ]
  },
  {
   "cell_type": "code",
   "execution_count": null,
   "id": "d6d4d273",
   "metadata": {},
   "outputs": [],
   "source": [
    "train_path = \"../data/chunk_1.npy\"\n",
    "test_path = \"../data/chunk_2.npy\""
   ]
  },
  {
   "cell_type": "code",
   "execution_count": 4,
   "id": "01b65081",
   "metadata": {},
   "outputs": [],
   "source": [
    "non_feature_cols = list(map(str, [*range(1,5)]))\n",
    "no_change_cols = list(map(str, [*range(5,9)]))\n",
    "standardization_cols = list(map(str, [*range(9,19)]))\n",
    "normalization_cols = list(map(str, [*range(19,31)]))\n",
    "binary_cols = list(map(str, [*range(31,40)]))\n",
    "\n",
    "float_cols = [*no_change_cols, *standardization_cols, *normalization_cols, *binary_cols]\n",
    "all_cols = [*float_cols, *non_feature_cols]"
   ]
  },
  {
   "cell_type": "markdown",
   "id": "2d374aa6",
   "metadata": {},
   "source": [
    "# Loading and preprocessing data"
   ]
  },
  {
   "cell_type": "code",
   "execution_count": 5,
   "id": "66438818",
   "metadata": {},
   "outputs": [],
   "source": [
    "class_mapping = {\"sustainers\": 0, \"burnouts\": 1, \"churnouts\": 2}"
   ]
  },
  {
   "cell_type": "markdown",
   "id": "e545b9bb",
   "metadata": {},
   "source": [
    "#### Train Data"
   ]
  },
  {
   "cell_type": "code",
   "execution_count": 6,
   "id": "397ceb0c",
   "metadata": {},
   "outputs": [],
   "source": [
    "data_train = np.load(train_path, allow_pickle=True)\n",
    "\n",
    "data_train = data_train[:, :100, :]\n",
    "data_train = data_train.reshape(-1, 42)\n",
    "data_train = data_train[~np.all(data_train == 0, axis=1)]\n",
    "\n",
    "df_train = pd.DataFrame(data_train, columns=[*all_cols, \"class\", \"user_id\", \"settlement_part_id\"])\n",
    "del data_train\n",
    "\n",
    "for col in float_cols:\n",
    "    df_train.loc[:, col] = df_train.loc[:, col].astype(float)\n",
    "\n",
    "y_train = df_train.groupby(\"user_id\").agg({\"class\": \"unique\"})\n",
    "y_train.loc[:, \"class\"] = y_train.loc[:, \"class\"].apply(lambda x: class_mapping[x[0]])\n",
    "y_train = y_train.to_numpy()\n",
    "\n",
    "X_train = df_train.groupby(\"user_id\").agg(dict(zip(float_cols, [\"mean\"]*len(float_cols)))).to_numpy()\n",
    "del df_train"
   ]
  },
  {
   "cell_type": "markdown",
   "id": "946a4441",
   "metadata": {},
   "source": [
    "#### Test Data"
   ]
  },
  {
   "cell_type": "code",
   "execution_count": 7,
   "id": "15fcc1bd",
   "metadata": {},
   "outputs": [],
   "source": [
    "data_test = np.load(test_path, allow_pickle=True)\n",
    "\n",
    "data_test = data_test[:, :100, :]\n",
    "data_test = data_test.reshape(-1, 42)\n",
    "data_test = data_test[~np.all(data_test == 0, axis=1)]\n",
    "\n",
    "df_test = pd.DataFrame(data_test, columns=[*all_cols, \"class\", \"user_id\", \"settlement_part_id\"])\n",
    "del data_test\n",
    "\n",
    "for col in float_cols:\n",
    "    df_test.loc[:, col] = df_test.loc[:, col].astype(float)\n",
    "\n",
    "y_test = df_test.groupby(\"user_id\").agg({\"class\": \"unique\"})\n",
    "y_test.loc[:, \"class\"] = y_test.loc[:, \"class\"].apply(lambda x: class_mapping[x[0]])\n",
    "y_test = y_test.to_numpy()\n",
    "\n",
    "X_test = df_test.groupby(\"user_id\").agg(dict(zip(float_cols, [\"mean\"]*len(float_cols)))).to_numpy()\n",
    "del df_test"
   ]
  },
  {
   "cell_type": "code",
   "execution_count": 8,
   "id": "514bd84d",
   "metadata": {},
   "outputs": [],
   "source": [
    "y_train, y_test = y_train.flatten(), y_test.flatten()"
   ]
  },
  {
   "cell_type": "markdown",
   "id": "22e780ae",
   "metadata": {},
   "source": [
    "# Modeling"
   ]
  },
  {
   "cell_type": "code",
   "execution_count": 9,
   "id": "bd1f0c77",
   "metadata": {},
   "outputs": [],
   "source": [
    "from sklearn.svm import SVC\n",
    "from sklearn.neural_network import MLPClassifier\n",
    "from sklearn.linear_model import LogisticRegression\n",
    "from sklearn.ensemble import RandomForestClassifier\n",
    "\n",
    "from xgboost import XGBClassifier\n",
    "\n",
    "from sklearn.metrics import classification_report"
   ]
  },
  {
   "cell_type": "code",
   "execution_count": 10,
   "id": "a39a0137",
   "metadata": {},
   "outputs": [],
   "source": [
    "target_names = [\"sustainers\", \"burnouts\", \"churnouts\"]"
   ]
  },
  {
   "cell_type": "markdown",
   "id": "60fefbe5",
   "metadata": {},
   "source": [
    "### Logistic Regression"
   ]
  },
  {
   "cell_type": "code",
   "execution_count": 11,
   "id": "544ac4b1",
   "metadata": {},
   "outputs": [
    {
     "name": "stdout",
     "output_type": "stream",
     "text": [
      "Train Classification Report\n",
      "--------------------------\n",
      "              precision    recall  f1-score   support\n",
      "\n",
      "  sustainers       0.65      0.26      0.37       115\n",
      "    burnouts       0.67      0.08      0.14        78\n",
      "   churnouts       0.61      0.93      0.74       256\n",
      "\n",
      "    accuracy                           0.61       449\n",
      "   macro avg       0.64      0.42      0.42       449\n",
      "weighted avg       0.63      0.61      0.54       449\n",
      "\n",
      "\n",
      "\n",
      "Test Classification Report\n",
      "--------------------------\n",
      "              precision    recall  f1-score   support\n",
      "\n",
      "  sustainers       0.45      0.18      0.26       115\n",
      "    burnouts       0.60      0.04      0.07        77\n",
      "   churnouts       0.59      0.91      0.72       256\n",
      "\n",
      "    accuracy                           0.58       448\n",
      "   macro avg       0.55      0.38      0.35       448\n",
      "weighted avg       0.56      0.58      0.49       448\n",
      "\n"
     ]
    }
   ],
   "source": [
    "clf = LogisticRegression(random_state=0, max_iter=1000, C=2)\n",
    "clf.fit(X_train, y_train)\n",
    "\n",
    "print(\"Train Classification Report\")\n",
    "print(\"--------------------------\")\n",
    "print(classification_report(y_train, clf.predict(X_train), target_names=target_names))\n",
    "\n",
    "print(\"\\n\")\n",
    "\n",
    "print(\"Test Classification Report\")\n",
    "print(\"--------------------------\")\n",
    "print(classification_report(y_test, clf.predict(X_test), target_names=target_names))"
   ]
  },
  {
   "cell_type": "markdown",
   "id": "c0c35252",
   "metadata": {},
   "source": [
    "### Random Forest"
   ]
  },
  {
   "cell_type": "code",
   "execution_count": 12,
   "id": "c1eac06b",
   "metadata": {},
   "outputs": [
    {
     "name": "stdout",
     "output_type": "stream",
     "text": [
      "Train Classification Report\n",
      "--------------------------\n",
      "              precision    recall  f1-score   support\n",
      "\n",
      "  sustainers       1.00      0.70      0.82       115\n",
      "    burnouts       1.00      0.42      0.59        78\n",
      "   churnouts       0.76      1.00      0.86       256\n",
      "\n",
      "    accuracy                           0.82       449\n",
      "   macro avg       0.92      0.71      0.76       449\n",
      "weighted avg       0.86      0.82      0.81       449\n",
      "\n",
      "\n",
      "\n",
      "Test Classification Report\n",
      "--------------------------\n",
      "              precision    recall  f1-score   support\n",
      "\n",
      "  sustainers       0.42      0.13      0.20       115\n",
      "    burnouts       0.50      0.06      0.11        77\n",
      "   churnouts       0.59      0.93      0.72       256\n",
      "\n",
      "    accuracy                           0.57       448\n",
      "   macro avg       0.50      0.37      0.34       448\n",
      "weighted avg       0.53      0.57      0.48       448\n",
      "\n"
     ]
    }
   ],
   "source": [
    "clf = RandomForestClassifier(max_depth=7, random_state=0)\n",
    "clf.fit(X_train, y_train)\n",
    "\n",
    "print(\"Train Classification Report\")\n",
    "print(\"--------------------------\")\n",
    "print(classification_report(y_train, clf.predict(X_train), target_names=target_names))\n",
    "\n",
    "print(\"\\n\")\n",
    "\n",
    "print(\"Test Classification Report\")\n",
    "print(\"--------------------------\")\n",
    "print(classification_report(y_test, clf.predict(X_test), target_names=target_names))"
   ]
  },
  {
   "cell_type": "markdown",
   "id": "34047cd3",
   "metadata": {},
   "source": [
    "### SVM"
   ]
  },
  {
   "cell_type": "code",
   "execution_count": 13,
   "id": "7163e516",
   "metadata": {},
   "outputs": [
    {
     "name": "stdout",
     "output_type": "stream",
     "text": [
      "Train Classification Report\n",
      "--------------------------\n",
      "              precision    recall  f1-score   support\n",
      "\n",
      "  sustainers       0.74      0.43      0.55       115\n",
      "    burnouts       0.91      0.13      0.22        78\n",
      "   churnouts       0.65      0.93      0.76       256\n",
      "\n",
      "    accuracy                           0.67       449\n",
      "   macro avg       0.76      0.50      0.51       449\n",
      "weighted avg       0.71      0.67      0.61       449\n",
      "\n",
      "\n",
      "\n",
      "Test Classification Report\n",
      "--------------------------\n",
      "              precision    recall  f1-score   support\n",
      "\n",
      "  sustainers       0.37      0.17      0.23       115\n",
      "    burnouts       0.25      0.01      0.02        77\n",
      "   churnouts       0.59      0.90      0.71       256\n",
      "\n",
      "    accuracy                           0.56       448\n",
      "   macro avg       0.40      0.36      0.32       448\n",
      "weighted avg       0.47      0.56      0.47       448\n",
      "\n"
     ]
    }
   ],
   "source": [
    "clf = SVC(C=35, random_state=0)\n",
    "clf.fit(X_train, y_train)\n",
    "\n",
    "print(\"Train Classification Report\")\n",
    "print(\"--------------------------\")\n",
    "print(classification_report(y_train, clf.predict(X_train), target_names=target_names))\n",
    "\n",
    "print(\"\\n\")\n",
    "\n",
    "print(\"Test Classification Report\")\n",
    "print(\"--------------------------\")\n",
    "print(classification_report(y_test, clf.predict(X_test), target_names=target_names))"
   ]
  },
  {
   "cell_type": "markdown",
   "id": "227a83ce",
   "metadata": {},
   "source": [
    "### XGBoost"
   ]
  },
  {
   "cell_type": "code",
   "execution_count": 14,
   "id": "bdd1a800",
   "metadata": {},
   "outputs": [
    {
     "name": "stdout",
     "output_type": "stream",
     "text": [
      "Train Classification Report\n",
      "--------------------------\n",
      "              precision    recall  f1-score   support\n",
      "\n",
      "  sustainers       0.83      0.56      0.67       115\n",
      "    burnouts       0.93      0.36      0.52        78\n",
      "   churnouts       0.71      0.95      0.81       256\n",
      "\n",
      "    accuracy                           0.74       449\n",
      "   macro avg       0.82      0.62      0.66       449\n",
      "weighted avg       0.78      0.74      0.72       449\n",
      "\n",
      "\n",
      "\n",
      "Test Classification Report\n",
      "--------------------------\n",
      "              precision    recall  f1-score   support\n",
      "\n",
      "  sustainers       0.39      0.23      0.29       115\n",
      "    burnouts       0.43      0.12      0.18        77\n",
      "   churnouts       0.60      0.84      0.70       256\n",
      "\n",
      "    accuracy                           0.56       448\n",
      "   macro avg       0.47      0.39      0.39       448\n",
      "weighted avg       0.51      0.56      0.50       448\n",
      "\n"
     ]
    }
   ],
   "source": [
    "clf = XGBClassifier(use_label_encoder=False, eval_metric=\"mlogloss\", n_estimators=100, max_depth=1, random_state=0)\n",
    "clf.fit(X_train, y_train)\n",
    "\n",
    "print(\"Train Classification Report\")\n",
    "print(\"--------------------------\")\n",
    "print(classification_report(y_train, clf.predict(X_train), target_names=target_names))\n",
    "\n",
    "print(\"\\n\")\n",
    "\n",
    "print(\"Test Classification Report\")\n",
    "print(\"--------------------------\")\n",
    "print(classification_report(y_test, clf.predict(X_test), target_names=target_names))"
   ]
  },
  {
   "cell_type": "markdown",
   "id": "bf418ac8",
   "metadata": {},
   "source": [
    "### ANN"
   ]
  },
  {
   "cell_type": "code",
   "execution_count": 15,
   "id": "91213015",
   "metadata": {},
   "outputs": [
    {
     "name": "stdout",
     "output_type": "stream",
     "text": [
      "Train Classification Report\n",
      "--------------------------\n",
      "              precision    recall  f1-score   support\n",
      "\n",
      "  sustainers       0.71      0.46      0.56       115\n",
      "    burnouts       0.67      0.21      0.31        78\n",
      "   churnouts       0.65      0.89      0.75       256\n",
      "\n",
      "    accuracy                           0.66       449\n",
      "   macro avg       0.67      0.52      0.54       449\n",
      "weighted avg       0.67      0.66      0.63       449\n",
      "\n",
      "\n",
      "\n",
      "Test Classification Report\n",
      "--------------------------\n",
      "              precision    recall  f1-score   support\n",
      "\n",
      "  sustainers       0.42      0.22      0.29       115\n",
      "    burnouts       0.36      0.05      0.09        77\n",
      "   churnouts       0.58      0.86      0.70       256\n",
      "\n",
      "    accuracy                           0.56       448\n",
      "   macro avg       0.46      0.38      0.36       448\n",
      "weighted avg       0.51      0.56      0.49       448\n",
      "\n"
     ]
    }
   ],
   "source": [
    "clf = MLPClassifier(random_state=0, max_iter=1000, hidden_layer_sizes=(16,))\n",
    "clf.fit(X_train, y_train)\n",
    "\n",
    "print(\"Train Classification Report\")\n",
    "print(\"--------------------------\")\n",
    "print(classification_report(y_train, clf.predict(X_train), target_names=target_names))\n",
    "\n",
    "print(\"\\n\")\n",
    "\n",
    "print(\"Test Classification Report\")\n",
    "print(\"--------------------------\")\n",
    "print(classification_report(y_test, clf.predict(X_test), target_names=target_names))"
   ]
  }
 ],
 "metadata": {
  "kernelspec": {
   "display_name": "conda_python3",
   "language": "python",
   "name": "conda_python3"
  },
  "language_info": {
   "codemirror_mode": {
    "name": "ipython",
    "version": 3
   },
   "file_extension": ".py",
   "mimetype": "text/x-python",
   "name": "python",
   "nbconvert_exporter": "python",
   "pygments_lexer": "ipython3",
   "version": "3.6.13"
  }
 },
 "nbformat": 4,
 "nbformat_minor": 5
}
