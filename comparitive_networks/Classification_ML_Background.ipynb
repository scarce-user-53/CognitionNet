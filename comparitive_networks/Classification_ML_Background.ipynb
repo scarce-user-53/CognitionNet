{
 "cells": [
  {
   "cell_type": "markdown",
   "id": "bccad900",
   "metadata": {},
   "source": [
    "# Imports"
   ]
  },
  {
   "cell_type": "code",
   "execution_count": 1,
   "id": "e0eeaf44",
   "metadata": {},
   "outputs": [
    {
     "name": "stdout",
     "output_type": "stream",
     "text": [
      "Requirement already satisfied: xgboost in /home/ec2-user/anaconda3/envs/python3/lib/python3.6/site-packages (1.5.2)\n",
      "Requirement already satisfied: numpy in /home/ec2-user/anaconda3/envs/python3/lib/python3.6/site-packages (from xgboost) (1.19.5)\n",
      "Requirement already satisfied: scipy in /home/ec2-user/anaconda3/envs/python3/lib/python3.6/site-packages (from xgboost) (1.5.3)\n"
     ]
    }
   ],
   "source": [
    "!pip install xgboost"
   ]
  },
  {
   "cell_type": "code",
   "execution_count": 2,
   "id": "ed6931f0",
   "metadata": {},
   "outputs": [],
   "source": [
    "import numpy as np\n",
    "import pandas as pd\n",
    "import seaborn as sns\n",
    "import matplotlib.pyplot as plt"
   ]
  },
  {
   "cell_type": "markdown",
   "id": "008a4a24",
   "metadata": {},
   "source": [
    "# Config"
   ]
  },
  {
   "cell_type": "code",
   "execution_count": 3,
   "id": "ce9ffac5",
   "metadata": {},
   "outputs": [],
   "source": [
    "user_classes = [\"sustainers\", \"burnouts\", \"churnouts\"]"
   ]
  },
  {
   "cell_type": "code",
   "execution_count": null,
   "id": "31edfe20",
   "metadata": {},
   "outputs": [],
   "source": [
    "train_path = \"../data/chunk_1.npy\"\n",
    "test_path = \"../data/chunk_2.npy\""
   ]
  },
  {
   "cell_type": "code",
   "execution_count": 4,
   "id": "1afe1f55",
   "metadata": {},
   "outputs": [],
   "source": [
    "non_feature_cols = list(map(str, [*range(1,5)]))\n",
    "no_change_cols = list(map(str, [*range(5,9)]))\n",
    "standardization_cols = list(map(str, [*range(9,19)]))\n",
    "normalization_cols = list(map(str, [*range(19,31)]))\n",
    "binary_cols = list(map(str, [*range(31,40)]))\n",
    "\n",
    "float_cols = [*no_change_cols, *standardization_cols, *normalization_cols, *binary_cols]\n",
    "all_cols = [*float_cols, *non_feature_cols]"
   ]
  },
  {
   "cell_type": "markdown",
   "id": "81d02e9d",
   "metadata": {},
   "source": [
    "# Loading and preprocessing data"
   ]
  },
  {
   "cell_type": "code",
   "execution_count": 5,
   "id": "a497a82c",
   "metadata": {},
   "outputs": [],
   "source": [
    "class_mapping = {\"sustainers\": 0, \"burnouts\": 1, \"churnouts\": 2}"
   ]
  },
  {
   "cell_type": "markdown",
   "id": "4cfaf729",
   "metadata": {},
   "source": [
    "#### Train Data"
   ]
  },
  {
   "cell_type": "code",
   "execution_count": 6,
   "id": "4a2e9580",
   "metadata": {},
   "outputs": [],
   "source": [
    "data_train = np.load(train_path, allow_pickle=True)\n",
    "\n",
    "data_train = data_train[:, :100, :]\n",
    "data_train = data_train.reshape(-1, 42)\n",
    "data_train = data_train[~np.all(data_train == 0, axis=1)]\n",
    "\n",
    "df_train = pd.DataFrame(data_train, columns=[*all_cols, \"class\", \"user_id\", \"settlement_part_id\"])\n",
    "del data_train\n",
    "\n",
    "for col in float_cols:\n",
    "    df_train.loc[:, col] = df_train.loc[:, col].astype(float)\n",
    "\n",
    "y_train = df_train.groupby(\"user_id\").agg({\"class\": \"unique\"})\n",
    "y_train.loc[:, \"class\"] = y_train.loc[:, \"class\"].apply(lambda x: class_mapping[x[0]])\n",
    "y_train = y_train.to_numpy()\n",
    "\n",
    "X_train = df_train.groupby(\"user_id\").agg(dict(zip(float_cols, [\"mean\"]*len(float_cols)))).to_numpy()\n",
    "del df_train"
   ]
  },
  {
   "cell_type": "markdown",
   "id": "34b18ab4",
   "metadata": {},
   "source": [
    "#### Test Data"
   ]
  },
  {
   "cell_type": "code",
   "execution_count": 7,
   "id": "c7d0045e",
   "metadata": {},
   "outputs": [],
   "source": [
    "data_test = np.load(\"../data/chunk_2.npy\", allow_pickle=True)\n",
    "\n",
    "data_test = data_test[:, :100, :]\n",
    "data_test = data_test.reshape(-1, 42)\n",
    "data_test = data_test[~np.all(data_test == 0, axis=1)]\n",
    "\n",
    "df_test = pd.DataFrame(data_test, columns=[*all_cols, \"class\", \"user_id\", \"settlement_part_id\"])\n",
    "del data_test\n",
    "\n",
    "for col in float_cols:\n",
    "    df_test.loc[:, col] = df_test.loc[:, col].astype(float)\n",
    "\n",
    "y_test = df_test.groupby(\"user_id\").agg({\"class\": \"unique\"})\n",
    "y_test.loc[:, \"class\"] = y_test.loc[:, \"class\"].apply(lambda x: class_mapping[x[0]])\n",
    "y_test = y_test.to_numpy()\n",
    "\n",
    "X_test = df_test.groupby(\"user_id\").agg(dict(zip(float_cols, [\"mean\"]*len(float_cols)))).to_numpy()\n",
    "del df_test"
   ]
  },
  {
   "cell_type": "code",
   "execution_count": 8,
   "id": "c41cf469",
   "metadata": {},
   "outputs": [],
   "source": [
    "y_train, y_test = y_train.flatten(), y_test.flatten()"
   ]
  },
  {
   "cell_type": "markdown",
   "id": "f40b753c",
   "metadata": {},
   "source": [
    "# Modeling"
   ]
  },
  {
   "cell_type": "code",
   "execution_count": 9,
   "id": "60033352",
   "metadata": {},
   "outputs": [],
   "source": [
    "from sklearn.svm import SVC\n",
    "from sklearn.neural_network import MLPClassifier\n",
    "from sklearn.linear_model import LogisticRegression\n",
    "from sklearn.ensemble import RandomForestClassifier\n",
    "\n",
    "from xgboost import XGBClassifier\n",
    "\n",
    "from sklearn.metrics import classification_report"
   ]
  },
  {
   "cell_type": "code",
   "execution_count": 10,
   "id": "58d95b0f",
   "metadata": {},
   "outputs": [],
   "source": [
    "target_names = [\"sustainers\", \"burnouts\", \"churnouts\"]"
   ]
  },
  {
   "cell_type": "markdown",
   "id": "31075c68",
   "metadata": {},
   "source": [
    "### Logistic Regression"
   ]
  },
  {
   "cell_type": "code",
   "execution_count": 11,
   "id": "11d4113c",
   "metadata": {},
   "outputs": [
    {
     "name": "stdout",
     "output_type": "stream",
     "text": [
      "Train Classification Report\n",
      "--------------------------\n",
      "              precision    recall  f1-score   support\n",
      "\n",
      "  sustainers       0.64      0.23      0.34       115\n",
      "    burnouts       0.62      0.06      0.12        78\n",
      "   churnouts       0.60      0.94      0.73       256\n",
      "\n",
      "    accuracy                           0.61       449\n",
      "   macro avg       0.62      0.41      0.40       449\n",
      "weighted avg       0.62      0.61      0.53       449\n",
      "\n",
      "\n",
      "\n",
      "Test Classification Report\n",
      "--------------------------\n",
      "              precision    recall  f1-score   support\n",
      "\n",
      "  sustainers       0.41      0.15      0.22       115\n",
      "    burnouts       0.60      0.04      0.07        77\n",
      "   churnouts       0.59      0.92      0.72       256\n",
      "\n",
      "    accuracy                           0.57       448\n",
      "   macro avg       0.53      0.37      0.34       448\n",
      "weighted avg       0.55      0.57      0.48       448\n",
      "\n"
     ]
    }
   ],
   "source": [
    "clf = LogisticRegression(random_state=0, max_iter=1000)\n",
    "clf.fit(X_train, y_train)\n",
    "\n",
    "print(\"Train Classification Report\")\n",
    "print(\"--------------------------\")\n",
    "print(classification_report(y_train, clf.predict(X_train), target_names=target_names))\n",
    "\n",
    "print(\"\\n\")\n",
    "\n",
    "print(\"Test Classification Report\")\n",
    "print(\"--------------------------\")\n",
    "print(classification_report(y_test, clf.predict(X_test), target_names=target_names))"
   ]
  },
  {
   "cell_type": "markdown",
   "id": "1acc21a2",
   "metadata": {},
   "source": [
    "### Random Forest"
   ]
  },
  {
   "cell_type": "code",
   "execution_count": 12,
   "id": "9f532a85",
   "metadata": {},
   "outputs": [
    {
     "name": "stdout",
     "output_type": "stream",
     "text": [
      "Train Classification Report\n",
      "--------------------------\n",
      "              precision    recall  f1-score   support\n",
      "\n",
      "  sustainers       1.00      1.00      1.00       115\n",
      "    burnouts       1.00      1.00      1.00        78\n",
      "   churnouts       1.00      1.00      1.00       256\n",
      "\n",
      "    accuracy                           1.00       449\n",
      "   macro avg       1.00      1.00      1.00       449\n",
      "weighted avg       1.00      1.00      1.00       449\n",
      "\n",
      "\n",
      "\n",
      "Test Classification Report\n",
      "--------------------------\n",
      "              precision    recall  f1-score   support\n",
      "\n",
      "  sustainers       0.39      0.18      0.25       115\n",
      "    burnouts       0.57      0.10      0.18        77\n",
      "   churnouts       0.60      0.89      0.71       256\n",
      "\n",
      "    accuracy                           0.57       448\n",
      "   macro avg       0.52      0.39      0.38       448\n",
      "weighted avg       0.54      0.57      0.50       448\n",
      "\n"
     ]
    }
   ],
   "source": [
    "clf = RandomForestClassifier(max_depth=None, min_samples_leaf=1, random_state=0)\n",
    "clf.fit(X_train, y_train)\n",
    "\n",
    "print(\"Train Classification Report\")\n",
    "print(\"--------------------------\")\n",
    "print(classification_report(y_train, clf.predict(X_train), target_names=target_names))\n",
    "\n",
    "print(\"\\n\")\n",
    "\n",
    "print(\"Test Classification Report\")\n",
    "print(\"--------------------------\")\n",
    "print(classification_report(y_test, clf.predict(X_test), target_names=target_names))"
   ]
  },
  {
   "cell_type": "markdown",
   "id": "aedc6619",
   "metadata": {},
   "source": [
    "### SVM"
   ]
  },
  {
   "cell_type": "code",
   "execution_count": 13,
   "id": "4bf98ed6",
   "metadata": {},
   "outputs": [
    {
     "name": "stdout",
     "output_type": "stream",
     "text": [
      "Train Classification Report\n",
      "--------------------------\n",
      "              precision    recall  f1-score   support\n",
      "\n",
      "  sustainers       0.78      0.60      0.68       115\n",
      "    burnouts       0.94      0.38      0.55        78\n",
      "   churnouts       0.72      0.93      0.81       256\n",
      "\n",
      "    accuracy                           0.75       449\n",
      "   macro avg       0.81      0.64      0.68       449\n",
      "weighted avg       0.78      0.75      0.73       449\n",
      "\n",
      "\n",
      "\n",
      "Test Classification Report\n",
      "--------------------------\n",
      "              precision    recall  f1-score   support\n",
      "\n",
      "  sustainers       0.37      0.23      0.28       115\n",
      "    burnouts       0.35      0.10      0.16        77\n",
      "   churnouts       0.61      0.84      0.71       256\n",
      "\n",
      "    accuracy                           0.56       448\n",
      "   macro avg       0.44      0.39      0.38       448\n",
      "weighted avg       0.50      0.56      0.50       448\n",
      "\n"
     ]
    }
   ],
   "source": [
    "clf = SVC(C=100, random_state=0)\n",
    "clf.fit(X_train, y_train)\n",
    "\n",
    "print(\"Train Classification Report\")\n",
    "print(\"--------------------------\")\n",
    "print(classification_report(y_train, clf.predict(X_train), target_names=target_names))\n",
    "\n",
    "print(\"\\n\")\n",
    "\n",
    "print(\"Test Classification Report\")\n",
    "print(\"--------------------------\")\n",
    "print(classification_report(y_test, clf.predict(X_test), target_names=target_names))"
   ]
  },
  {
   "cell_type": "markdown",
   "id": "1cd68598",
   "metadata": {},
   "source": [
    "### XGBoost"
   ]
  },
  {
   "cell_type": "code",
   "execution_count": 14,
   "id": "3a3c4a43",
   "metadata": {},
   "outputs": [
    {
     "name": "stdout",
     "output_type": "stream",
     "text": [
      "Train Classification Report\n",
      "--------------------------\n",
      "              precision    recall  f1-score   support\n",
      "\n",
      "  sustainers       0.76      0.17      0.27       115\n",
      "    burnouts       1.00      0.05      0.10        78\n",
      "   churnouts       0.60      0.98      0.74       256\n",
      "\n",
      "    accuracy                           0.61       449\n",
      "   macro avg       0.79      0.40      0.37       449\n",
      "weighted avg       0.71      0.61      0.51       449\n",
      "\n",
      "\n",
      "\n",
      "Test Classification Report\n",
      "--------------------------\n",
      "              precision    recall  f1-score   support\n",
      "\n",
      "  sustainers       0.33      0.05      0.09       115\n",
      "    burnouts       0.50      0.03      0.05        77\n",
      "   churnouts       0.58      0.96      0.72       256\n",
      "\n",
      "    accuracy                           0.57       448\n",
      "   macro avg       0.47      0.35      0.29       448\n",
      "weighted avg       0.50      0.57      0.44       448\n",
      "\n"
     ]
    }
   ],
   "source": [
    "clf = XGBClassifier(use_label_encoder=False, eval_metric=\"mlogloss\", n_estimators=10, max_depth=1, random_state=0)\n",
    "clf.fit(X_train, y_train)\n",
    "\n",
    "print(\"Train Classification Report\")\n",
    "print(\"--------------------------\")\n",
    "print(classification_report(y_train, clf.predict(X_train), target_names=target_names))\n",
    "\n",
    "print(\"\\n\")\n",
    "\n",
    "print(\"Test Classification Report\")\n",
    "print(\"--------------------------\")\n",
    "print(classification_report(y_test, clf.predict(X_test), target_names=target_names))"
   ]
  },
  {
   "cell_type": "markdown",
   "id": "bd9f73eb",
   "metadata": {},
   "source": [
    "### ANN"
   ]
  },
  {
   "cell_type": "code",
   "execution_count": 15,
   "id": "7a821ecc",
   "metadata": {},
   "outputs": [
    {
     "name": "stdout",
     "output_type": "stream",
     "text": [
      "Train Classification Report\n",
      "--------------------------\n",
      "              precision    recall  f1-score   support\n",
      "\n",
      "  sustainers       0.66      0.35      0.45       115\n",
      "    burnouts       0.58      0.14      0.23        78\n",
      "   churnouts       0.62      0.89      0.73       256\n",
      "\n",
      "    accuracy                           0.62       449\n",
      "   macro avg       0.62      0.46      0.47       449\n",
      "weighted avg       0.62      0.62      0.57       449\n",
      "\n",
      "\n",
      "\n",
      "Test Classification Report\n",
      "--------------------------\n",
      "              precision    recall  f1-score   support\n",
      "\n",
      "  sustainers       0.38      0.17      0.23       115\n",
      "    burnouts       0.40      0.05      0.09        77\n",
      "   churnouts       0.59      0.89      0.71       256\n",
      "\n",
      "    accuracy                           0.56       448\n",
      "   macro avg       0.46      0.37      0.34       448\n",
      "weighted avg       0.50      0.56      0.48       448\n",
      "\n"
     ]
    }
   ],
   "source": [
    "clf = MLPClassifier(random_state=0, max_iter=1000, hidden_layer_sizes=(10,))\n",
    "clf.fit(X_train, y_train)\n",
    "\n",
    "print(\"Train Classification Report\")\n",
    "print(\"--------------------------\")\n",
    "print(classification_report(y_train, clf.predict(X_train), target_names=target_names))\n",
    "\n",
    "print(\"\\n\")\n",
    "\n",
    "print(\"Test Classification Report\")\n",
    "print(\"--------------------------\")\n",
    "print(classification_report(y_test, clf.predict(X_test), target_names=target_names))"
   ]
  },
  {
   "cell_type": "markdown",
   "id": "614a4269",
   "metadata": {},
   "source": [
    "# Explaining RandomForest model with SHAP"
   ]
  },
  {
   "cell_type": "code",
   "execution_count": 16,
   "id": "a9e554e9",
   "metadata": {},
   "outputs": [],
   "source": [
    "import shap"
   ]
  },
  {
   "cell_type": "code",
   "execution_count": 17,
   "id": "ec8ac264",
   "metadata": {},
   "outputs": [],
   "source": [
    "clf = RandomForestClassifier(max_depth=None, min_samples_leaf=1, random_state=0)\n",
    "clf.fit(X_train, y_train)\n",
    "\n",
    "explainer = shap.TreeExplainer(clf)\n",
    "shap_values = explainer.shap_values(X_train)"
   ]
  },
  {
   "cell_type": "markdown",
   "id": "8c525635",
   "metadata": {},
   "source": [
    "### SHAP Feature importance"
   ]
  },
  {
   "cell_type": "code",
   "execution_count": 18,
   "id": "826b9896",
   "metadata": {},
   "outputs": [],
   "source": [
    "plot_cols = ['5','6','8','12','13','14','16','17','18','23','24','25','26','27','28','31','35','37','39']\n",
    "\n",
    "plot_cols_names = [\n",
    "    \"Performance in Rumble\",\n",
    "    \"Drop Probability\",\n",
    "    \"Drop Adherence\",\n",
    "    \"Cash Amount Won\",\n",
    "    \"Entry Fee\",\n",
    "    \"Player's Net Gain\",\n",
    "    \"Money Withdrawn Before Game\",\n",
    "    \"Money Added Before Game\",\n",
    "    \"Time Since Last Game\",\n",
    "    \"Current Game's Time\",\n",
    "    \"Game Finished Normally\",\n",
    "    \"Hand Dropped Before Game Start\",\n",
    "    \"Hand Dropped After Game Start\",\n",
    "    \"Wrong Finish\",\n",
    "    \"Continuous Missed Moves\",\n",
    "    \"Rummy Type Switched\",\n",
    "    \"Win Status\",\n",
    "    \"Rumble Indicator\",\n",
    "    \"Table Size\",\n",
    "]"
   ]
  },
  {
   "cell_type": "code",
   "execution_count": 19,
   "id": "ebb64420",
   "metadata": {},
   "outputs": [],
   "source": [
    "plot_cols_idx = [float_cols.index(i) for i in plot_cols]\n",
    "shap_new = [i[:, plot_cols_idx] for i in shap_values]"
   ]
  },
  {
   "cell_type": "code",
   "execution_count": 20,
   "id": "8a5bcf60",
   "metadata": {},
   "outputs": [],
   "source": [
    "plt.rcParams.update({\"font.size\": 20})"
   ]
  },
  {
   "cell_type": "code",
   "execution_count": 21,
   "id": "bfe6e81e",
   "metadata": {},
   "outputs": [
    {
     "data": {
      "image/png": "[encoded data removed]",
      "text/plain": [
       "<Figure size 648x432 with 1 Axes>"
      ]
     },
     "metadata": {
      "needs_background": "light"
     },
     "output_type": "display_data"
    }
   ],
   "source": [
    "_ = shap.summary_plot(\n",
    "    shap_new, \n",
    "    X_train[:, plot_cols_idx], \n",
    "    feature_names=plot_cols_names, \n",
    "    plot_type=\"bar\", \n",
    "    class_inds=[0,1,2],\n",
    "    class_names=[\"Sustainers\", \"Burnouts\", \"Churnouts\"],\n",
    "    plot_size=(9,6),\n",
    "    max_display=8, \n",
    "    show=False,\n",
    ")\n",
    "_ = plt.xticks([0.00, 0.02, 0.04, 0.06], size=20)\n",
    "_ = plt.yticks(size=20)\n",
    "_ = plt.xlabel(\"Mean SHAP Value\", size=20)\n",
    "_ = plt.legend(prop={'size': 20})\n",
    "_ = plt.tight_layout()\n",
    "# _ = plt.savefig(\"../clusters/individual_analysis/img/SHAP.png\")"
   ]
  },
  {
   "cell_type": "markdown",
   "id": "cd714bbc",
   "metadata": {},
   "source": [
    "The most influential variables to decide whether a player will sustain, burnout or churn are his patience(Time Since Last Game), willingness to bet(Entry Fee) and payoff the player receives(Player's Net Gain). The model finds it hard to raise accuracy beyond ~60% as the key variables it looks at are more related to the monetary attitude of the player, instead of the gameplay specific variables like drop adherence, etc."
   ]
  }
 ],
 "metadata": {
  "kernelspec": {
   "display_name": "conda_python3",
   "language": "python",
   "name": "conda_python3"
  },
  "language_info": {
   "codemirror_mode": {
    "name": "ipython",
    "version": 3
   },
   "file_extension": ".py",
   "mimetype": "text/x-python",
   "name": "python",
   "nbconvert_exporter": "python",
   "pygments_lexer": "ipython3",
   "version": "3.6.13"
  }
 },
 "nbformat": 4,
 "nbformat_minor": 5
}
