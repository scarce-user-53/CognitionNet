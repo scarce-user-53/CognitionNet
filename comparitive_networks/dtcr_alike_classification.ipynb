{
 "cells": [
  {
   "cell_type": "code",
   "execution_count": 1,
   "id": "00c5ba7f",
   "metadata": {},
   "outputs": [],
   "source": [
    "import numpy as np\n",
    "import pandas as pd\n",
    "import seaborn as sns\n",
    "import matplotlib.pyplot as plt"
   ]
  },
  {
   "cell_type": "code",
   "execution_count": 2,
   "id": "8947127c",
   "metadata": {},
   "outputs": [],
   "source": [
    "def get_flattened_transition_matrix(cluster_list, K1=7):\n",
    "    heatmap = np.zeros((K1,K1))\n",
    "    i = 0\n",
    "\n",
    "    while i < len(cluster_list)-1:\n",
    "        heatmap[cluster_list[i]][cluster_list[i+1]] += 1\n",
    "        i += 1\n",
    "    heatmap = np.divide(heatmap, heatmap.sum(axis=1).reshape(-1,1))\n",
    "    heatmap = np.nan_to_num(heatmap, nan=0.0)\n",
    "\n",
    "    return heatmap.flatten().reshape(1,-1)"
   ]
  },
  {
   "cell_type": "markdown",
   "id": "1656f973",
   "metadata": {},
   "source": [
    "# Loading and preprocessing data"
   ]
  },
  {
   "cell_type": "code",
   "execution_count": 3,
   "id": "661cc7d0",
   "metadata": {},
   "outputs": [],
   "source": [
    "class_mapping = {\"sustainers\": 0, \"burnouts\": 1, \"churnouts\": 2}"
   ]
  },
  {
   "cell_type": "code",
   "execution_count": 4,
   "id": "a989063b",
   "metadata": {},
   "outputs": [],
   "source": [
    "datadir = \"../data/\""
   ]
  },
  {
   "cell_type": "markdown",
   "id": "0b955df6",
   "metadata": {},
   "source": [
    "#### Train Data"
   ]
  },
  {
   "cell_type": "code",
   "execution_count": 5,
   "id": "2b2bf6bc",
   "metadata": {},
   "outputs": [],
   "source": [
    "df_train = pd.read_csv(datadir + \"dtcr_chunk1_clusters.csv\")\n",
    "df_train[\"user_id\"] = df_train[\"user_id\"].astype(int).astype(str)\n",
    "df_train = df_train.groupby([\"user_id\", \"class\"])[\"cluster\"].apply(list).apply(get_flattened_transition_matrix).reset_index()\n",
    "\n",
    "X_train = np.concatenate(df_train[\"cluster\"].to_numpy(), axis=0)\n",
    "y_train = df_train[\"class\"].map(class_mapping).to_numpy()\n",
    "\n",
    "del df_train\n"
   ]
  },
  {
   "cell_type": "markdown",
   "id": "ba1c2ed2",
   "metadata": {},
   "source": [
    "#### Test Data"
   ]
  },
  {
   "cell_type": "code",
   "execution_count": 6,
   "id": "10662378",
   "metadata": {},
   "outputs": [],
   "source": [
    "df_test = pd.read_csv(datadir + \"dtcr_chunk2_clusters.csv\")\n",
    "df_test[\"user_id\"] = df_test[\"user_id\"].astype(int).astype(str)\n",
    "df_test = df_test.groupby([\"user_id\", \"class\"])[\"cluster\"].apply(list).apply(get_flattened_transition_matrix).reset_index()\n",
    "\n",
    "X_test = np.concatenate(df_test[\"cluster\"].to_numpy(), axis=0)\n",
    "y_test = df_test[\"class\"].map(class_mapping).to_numpy()\n",
    "\n",
    "del df_test"
   ]
  },
  {
   "cell_type": "markdown",
   "id": "615611f5",
   "metadata": {},
   "source": [
    "# Modeling"
   ]
  },
  {
   "cell_type": "code",
   "execution_count": 7,
   "id": "ac99185d",
   "metadata": {},
   "outputs": [],
   "source": [
    "from sklearn.ensemble import RandomForestClassifier\n",
    "from sklearn.linear_model import LogisticRegression\n",
    "from sklearn.svm import SVC\n",
    "from sklearn.neural_network import MLPClassifier\n",
    "\n",
    "from xgboost import XGBClassifier\n",
    "import statsmodels.api as sm\n",
    "\n",
    "from sklearn.metrics import precision_score, recall_score, f1_score, classification_report"
   ]
  },
  {
   "cell_type": "code",
   "execution_count": 8,
   "id": "6a14891e",
   "metadata": {},
   "outputs": [],
   "source": [
    "target_names = [\"sustainers\", \"burnouts\", \"churnouts\"]"
   ]
  },
  {
   "cell_type": "markdown",
   "id": "0aa498a8",
   "metadata": {},
   "source": [
    "### Logistic Regression"
   ]
  },
  {
   "cell_type": "code",
   "execution_count": 9,
   "id": "7761480d",
   "metadata": {},
   "outputs": [
    {
     "name": "stdout",
     "output_type": "stream",
     "text": [
      "Train Classification Report\n",
      "--------------------------\n",
      "              precision    recall  f1-score   support\n",
      "\n",
      "  sustainers       0.63      0.33      0.43       115\n",
      "    burnouts       0.57      0.17      0.26        78\n",
      "   churnouts       0.64      0.92      0.76       256\n",
      "\n",
      "    accuracy                           0.64       449\n",
      "   macro avg       0.61      0.47      0.48       449\n",
      "weighted avg       0.63      0.64      0.59       449\n",
      "\n",
      "\n",
      "\n",
      "Test Classification Report\n",
      "--------------------------\n",
      "              precision    recall  f1-score   support\n",
      "\n",
      "  sustainers       0.33      0.15      0.20       115\n",
      "    burnouts       0.20      0.04      0.07        77\n",
      "   churnouts       0.57      0.85      0.68       256\n",
      "\n",
      "    accuracy                           0.53       448\n",
      "   macro avg       0.37      0.34      0.32       448\n",
      "weighted avg       0.44      0.53      0.45       448\n",
      "\n"
     ]
    }
   ],
   "source": [
    "clf = LogisticRegression(random_state=0, max_iter=1000, C=1)\n",
    "clf.fit(X_train, y_train)\n",
    "\n",
    "print(\"Train Classification Report\")\n",
    "print(\"--------------------------\")\n",
    "print(classification_report(y_train, clf.predict(X_train), target_names=target_names))\n",
    "\n",
    "print(\"\\n\")\n",
    "\n",
    "print(\"Test Classification Report\")\n",
    "print(\"--------------------------\")\n",
    "print(classification_report(y_test, clf.predict(X_test), target_names=target_names))"
   ]
  },
  {
   "cell_type": "markdown",
   "id": "dd12fa23",
   "metadata": {},
   "source": [
    "### Random Forest"
   ]
  },
  {
   "cell_type": "code",
   "execution_count": 10,
   "id": "cfd25e39",
   "metadata": {},
   "outputs": [
    {
     "name": "stdout",
     "output_type": "stream",
     "text": [
      "Train Classification Report\n",
      "---------------------------\n",
      "              precision    recall  f1-score   support\n",
      "\n",
      "  sustainers       0.97      0.53      0.69       115\n",
      "    burnouts       1.00      0.10      0.19        78\n",
      "   churnouts       0.67      1.00      0.80       256\n",
      "\n",
      "    accuracy                           0.72       449\n",
      "   macro avg       0.88      0.54      0.56       449\n",
      "weighted avg       0.81      0.72      0.67       449\n",
      "\n",
      "\n",
      "\n",
      "Test Classification Report\n",
      "--------------------------\n",
      "              precision    recall  f1-score   support\n",
      "\n",
      "  sustainers       0.36      0.08      0.13       115\n",
      "    burnouts       0.67      0.03      0.05        77\n",
      "   churnouts       0.58      0.95      0.72       256\n",
      "\n",
      "    accuracy                           0.57       448\n",
      "   macro avg       0.54      0.35      0.30       448\n",
      "weighted avg       0.54      0.57      0.45       448\n",
      "\n"
     ]
    }
   ],
   "source": [
    "clf = RandomForestClassifier(max_depth=None, min_samples_leaf=8, random_state=0)\n",
    "clf.fit(X_train, y_train)\n",
    "\n",
    "print(\"Train Classification Report\")\n",
    "print(\"---------------------------\")\n",
    "print(classification_report(y_train, clf.predict(X_train), target_names=target_names))\n",
    "\n",
    "print(\"\\n\")\n",
    "\n",
    "print(\"Test Classification Report\")\n",
    "print(\"--------------------------\")\n",
    "print(classification_report(y_test, clf.predict(X_test), target_names=target_names))"
   ]
  },
  {
   "cell_type": "markdown",
   "id": "f5a63cb3",
   "metadata": {},
   "source": [
    "### SVM"
   ]
  },
  {
   "cell_type": "code",
   "execution_count": 11,
   "id": "85ce8a3b",
   "metadata": {},
   "outputs": [
    {
     "name": "stdout",
     "output_type": "stream",
     "text": [
      "Train Classification Report\n",
      "--------------------------\n",
      "              precision    recall  f1-score   support\n",
      "\n",
      "  sustainers       0.97      0.63      0.76       115\n",
      "    burnouts       1.00      0.44      0.61        78\n",
      "   churnouts       0.74      0.99      0.85       256\n",
      "\n",
      "    accuracy                           0.80       449\n",
      "   macro avg       0.91      0.68      0.74       449\n",
      "weighted avg       0.85      0.80      0.79       449\n",
      "\n",
      "\n",
      "\n",
      "Test Classification Report\n",
      "--------------------------\n",
      "              precision    recall  f1-score   support\n",
      "\n",
      "  sustainers       0.25      0.11      0.15       115\n",
      "    burnouts       0.29      0.03      0.05        77\n",
      "   churnouts       0.57      0.86      0.68       256\n",
      "\n",
      "    accuracy                           0.52       448\n",
      "   macro avg       0.37      0.33      0.30       448\n",
      "weighted avg       0.44      0.52      0.44       448\n",
      "\n"
     ]
    }
   ],
   "source": [
    "clf = SVC(C=2, random_state=0)\n",
    "clf.fit(X_train, y_train)\n",
    "\n",
    "print(\"Train Classification Report\")\n",
    "print(\"--------------------------\")\n",
    "print(classification_report(y_train, clf.predict(X_train), target_names=target_names))\n",
    "\n",
    "print(\"\\n\")\n",
    "\n",
    "print(\"Test Classification Report\")\n",
    "print(\"--------------------------\")\n",
    "print(classification_report(y_test, clf.predict(X_test), target_names=target_names))"
   ]
  },
  {
   "cell_type": "markdown",
   "id": "f5e4fe9c",
   "metadata": {},
   "source": [
    "# XGBoost"
   ]
  },
  {
   "cell_type": "code",
   "execution_count": 12,
   "id": "aa949785",
   "metadata": {},
   "outputs": [
    {
     "name": "stdout",
     "output_type": "stream",
     "text": [
      "Train Classification Report\n",
      "--------------------------\n",
      "              precision    recall  f1-score   support\n",
      "\n",
      "  sustainers       0.96      0.22      0.35       115\n",
      "    burnouts       1.00      0.08      0.14        78\n",
      "   churnouts       0.61      1.00      0.76       256\n",
      "\n",
      "    accuracy                           0.64       449\n",
      "   macro avg       0.86      0.43      0.42       449\n",
      "weighted avg       0.77      0.64      0.55       449\n",
      "\n",
      "\n",
      "\n",
      "Test Classification Report\n",
      "--------------------------\n",
      "              precision    recall  f1-score   support\n",
      "\n",
      "  sustainers       0.33      0.04      0.08       115\n",
      "    burnouts       0.50      0.01      0.03        77\n",
      "   churnouts       0.58      0.97      0.72       256\n",
      "\n",
      "    accuracy                           0.57       448\n",
      "   macro avg       0.47      0.34      0.27       448\n",
      "weighted avg       0.50      0.57      0.44       448\n",
      "\n"
     ]
    }
   ],
   "source": [
    "clf = XGBClassifier(use_label_encoder=False, eval_metric=\"mlogloss\", n_estimators=100, max_depth=None, reg_lambda=4000, random_state=0)\n",
    "clf.fit(X_train, y_train)\n",
    "\n",
    "print(\"Train Classification Report\")\n",
    "print(\"--------------------------\")\n",
    "print(classification_report(y_train, clf.predict(X_train), target_names=target_names))\n",
    "\n",
    "print(\"\\n\")\n",
    "\n",
    "print(\"Test Classification Report\")\n",
    "print(\"--------------------------\")\n",
    "print(classification_report(y_test, clf.predict(X_test), target_names=target_names))"
   ]
  },
  {
   "cell_type": "markdown",
   "id": "b6704938",
   "metadata": {},
   "source": [
    "### ANN"
   ]
  },
  {
   "cell_type": "code",
   "execution_count": 13,
   "id": "4a3e6184",
   "metadata": {},
   "outputs": [
    {
     "name": "stdout",
     "output_type": "stream",
     "text": [
      "Train Classification Report\n",
      "--------------------------\n",
      "              precision    recall  f1-score   support\n",
      "\n",
      "  sustainers       0.68      0.37      0.47       115\n",
      "    burnouts       0.67      0.28      0.40        78\n",
      "   churnouts       0.66      0.91      0.76       256\n",
      "\n",
      "    accuracy                           0.66       449\n",
      "   macro avg       0.67      0.52      0.54       449\n",
      "weighted avg       0.66      0.66      0.62       449\n",
      "\n",
      "\n",
      "\n",
      "Test Classification Report\n",
      "--------------------------\n",
      "              precision    recall  f1-score   support\n",
      "\n",
      "  sustainers       0.31      0.14      0.19       115\n",
      "    burnouts       0.20      0.06      0.10        77\n",
      "   churnouts       0.57      0.82      0.67       256\n",
      "\n",
      "    accuracy                           0.52       448\n",
      "   macro avg       0.36      0.34      0.32       448\n",
      "weighted avg       0.44      0.52      0.45       448\n",
      "\n"
     ]
    }
   ],
   "source": [
    "clf = MLPClassifier(random_state=0, max_iter=10000, hidden_layer_sizes=(2,))\n",
    "clf.fit(X_train, y_train)\n",
    "\n",
    "print(\"Train Classification Report\")\n",
    "print(\"--------------------------\")\n",
    "print(classification_report(y_train, clf.predict(X_train), target_names=target_names))\n",
    "\n",
    "print(\"\\n\")\n",
    "\n",
    "print(\"Test Classification Report\")\n",
    "print(\"--------------------------\")\n",
    "print(classification_report(y_test, clf.predict(X_test), target_names=target_names))"
   ]
  }
 ],
 "metadata": {
  "kernelspec": {
   "display_name": "conda_python3",
   "language": "python",
   "name": "conda_python3"
  },
  "language_info": {
   "codemirror_mode": {
    "name": "ipython",
    "version": 3
   },
   "file_extension": ".py",
   "mimetype": "text/x-python",
   "name": "python",
   "nbconvert_exporter": "python",
   "pygments_lexer": "ipython3",
   "version": "3.6.13"
  }
 },
 "nbformat": 4,
 "nbformat_minor": 5
}
